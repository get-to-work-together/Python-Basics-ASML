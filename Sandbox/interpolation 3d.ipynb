{
 "cells": [
  {
   "cell_type": "markdown",
   "id": "8c2a11bf-a54f-4ed4-925f-5a3a52768914",
   "metadata": {},
   "source": [
    "# 3D interpolation with scipy.interpolate"
   ]
  },
  {
   "cell_type": "code",
   "execution_count": 1,
   "id": "e19e69b1-7ddf-4520-9052-447c1f3ece0e",
   "metadata": {},
   "outputs": [],
   "source": [
    "import numpy as np\n",
    "import pandas as pd\n",
    "import matplotlib.pyplot as plt"
   ]
  },
  {
   "cell_type": "code",
   "execution_count": 2,
   "id": "84faa1fb-2d9b-4bd8-baba-eb0142727891",
   "metadata": {},
   "outputs": [],
   "source": [
    "pd.set_option('display.max_rows', None)\n",
    "pd.set_option('display.max_columns', None)"
   ]
  },
  {
   "cell_type": "markdown",
   "id": "53afd8d0-f106-4862-a612-dd142ad2cfef",
   "metadata": {},
   "source": [
    "## Define a function to get the value"
   ]
  },
  {
   "cell_type": "code",
   "execution_count": 3,
   "id": "b550b291-1960-4fd5-8eed-fbcd51d09b85",
   "metadata": {},
   "outputs": [],
   "source": [
    "def v_function_3d(x, y, z):\n",
    "    return 3 * x + 4 * y - z"
   ]
  },
  {
   "cell_type": "markdown",
   "id": "6eb9c801-a944-4ee8-b783-49ec090412c4",
   "metadata": {},
   "source": [
    "## Create a meshgrid"
   ]
  },
  {
   "cell_type": "code",
   "execution_count": 4,
   "id": "b9040d9e-ba3c-4f9c-8d59-e4113e80a063",
   "metadata": {},
   "outputs": [],
   "source": [
    "# the np.linspace() function returns the interval between the given numbers.\n",
    "x = np.linspace(0, 4, 5)\n",
    "y = np.linspace(0, 5, 6)\n",
    "z = np.linspace(0, 6, 7)\n",
    "\n",
    "# in three dimensions, a point's coordinates are treated collectively as a single object.\n",
    "points = (x, y, z)\n",
    "\n",
    "# meshgrid, it changes NumPy arrays into coordinate matrices or grids of values\n",
    "X, Y, Z = np.meshgrid(*points, indexing=\"ij\")"
   ]
  },
  {
   "cell_type": "code",
   "execution_count": 5,
   "id": "dc62228e-ee48-46e3-be2a-e2e9f8699596",
   "metadata": {},
   "outputs": [],
   "source": [
    "# get the values\n",
    "values = v_function_3d(X, Y, Z)"
   ]
  },
  {
   "cell_type": "markdown",
   "id": "8d908dcc-f9f8-4355-aa93-9ee7ec32b33f",
   "metadata": {},
   "source": [
    "## Point to interpolate to"
   ]
  },
  {
   "cell_type": "code",
   "execution_count": 6,
   "id": "b7e66880-447f-4c4f-9f1a-7f74c6fa7e9e",
   "metadata": {},
   "outputs": [],
   "source": [
    "point = np.array([2.21, 3.12, 1.15])"
   ]
  },
  {
   "cell_type": "markdown",
   "id": "e563cbc8-62e2-40fa-a85f-71d2e0f543a2",
   "metadata": {},
   "source": [
    "## Use SciPy’s interpn() function for 3D Interpolation in Python"
   ]
  },
  {
   "cell_type": "code",
   "execution_count": 7,
   "id": "31b0c76a-21b4-4280-b49a-0f30ffce2a43",
   "metadata": {},
   "outputs": [],
   "source": [
    "from scipy.interpolate import interpn"
   ]
  },
  {
   "cell_type": "code",
   "execution_count": 8,
   "id": "dfacfebe-f081-42af-9145-ca9e6c8c1a86",
   "metadata": {},
   "outputs": [
    {
     "name": "stdout",
     "output_type": "stream",
     "text": [
      "[17.96]\n"
     ]
    }
   ],
   "source": [
    "method = 'linear'    # or 'nearest', 'linear', 'cubic', ...\n",
    "\n",
    "print(interpn(points, values, point, method=method))"
   ]
  },
  {
   "cell_type": "markdown",
   "id": "18af1894-1284-459c-b072-9b00ccbb3359",
   "metadata": {},
   "source": [
    "## Use RegularGridInterpolator for 3D Interpolation in Python"
   ]
  },
  {
   "cell_type": "code",
   "execution_count": 9,
   "id": "86130d86-c617-4600-8d0f-d9d38a5f0ad9",
   "metadata": {},
   "outputs": [],
   "source": [
    "from scipy.interpolate import RegularGridInterpolator as RGI"
   ]
  },
  {
   "cell_type": "code",
   "execution_count": 10,
   "id": "4e738d8a-d816-418c-a09e-8c860a949d25",
   "metadata": {},
   "outputs": [],
   "source": [
    "# make the interpolator\n",
    "rgi = RGI(points, values=values, method=method)"
   ]
  },
  {
   "cell_type": "code",
   "execution_count": 11,
   "id": "14ec6f9a-bedc-4a81-9c62-398e5ff8cfc4",
   "metadata": {},
   "outputs": [
    {
     "name": "stdout",
     "output_type": "stream",
     "text": [
      "[17.96]\n"
     ]
    }
   ],
   "source": [
    "print(rgi(point).round(2))"
   ]
  },
  {
   "cell_type": "markdown",
   "id": "974847b8-6de5-4be3-9809-c43bda9f01d2",
   "metadata": {},
   "source": [
    "## Save to file"
   ]
  },
  {
   "cell_type": "code",
   "execution_count": 12,
   "id": "34869d09-1587-4b86-b3e9-f0065d964eee",
   "metadata": {},
   "outputs": [],
   "source": [
    "data = np.vstack([X.ravel(), Y.ravel(), Z.ravel(), values.ravel()]).T"
   ]
  },
  {
   "cell_type": "code",
   "execution_count": 13,
   "id": "1cec3c20-87c3-451d-ae0c-91cfcf2e855b",
   "metadata": {},
   "outputs": [],
   "source": [
    "filename = 'data.csv'\n",
    "\n",
    "delimiter = '\\t'\n",
    "header = delimiter.join(['x','y','z','value'])\n",
    "\n",
    "np.savetxt(filename, data, fmt='%.3f', delimiter=delimiter, header=header, comments='')"
   ]
  },
  {
   "cell_type": "markdown",
   "id": "f5f1b65f-0dbd-4080-ab5b-3c99a0fc7fd3",
   "metadata": {},
   "source": [
    "## Read from file with Pandas"
   ]
  },
  {
   "cell_type": "code",
   "execution_count": 14,
   "id": "02eb1831-d997-4e77-8865-7b105bf01239",
   "metadata": {},
   "outputs": [
    {
     "name": "stdout",
     "output_type": "stream",
     "text": [
      "<class 'pandas.core.frame.DataFrame'>\n",
      "RangeIndex: 210 entries, 0 to 209\n",
      "Data columns (total 4 columns):\n",
      " #   Column  Non-Null Count  Dtype  \n",
      "---  ------  --------------  -----  \n",
      " 0   x       210 non-null    float64\n",
      " 1   y       210 non-null    float64\n",
      " 2   z       210 non-null    float64\n",
      " 3   value   210 non-null    float64\n",
      "dtypes: float64(4)\n",
      "memory usage: 6.7 KB\n"
     ]
    }
   ],
   "source": [
    "df = pd.read_csv(filename, delimiter=delimiter)\n",
    "df.info()"
   ]
  },
  {
   "cell_type": "code",
   "execution_count": 15,
   "id": "aefdef60-a623-493d-98ad-a355b1392f9a",
   "metadata": {},
   "outputs": [],
   "source": [
    "data = df.values"
   ]
  },
  {
   "cell_type": "markdown",
   "id": "75795023-2c22-4389-994a-8622d77becfe",
   "metadata": {},
   "source": [
    "## griddata"
   ]
  },
  {
   "cell_type": "code",
   "execution_count": 16,
   "id": "d05fd178-0d85-4a2a-9eff-390ce0f557fa",
   "metadata": {},
   "outputs": [],
   "source": [
    "from scipy.interpolate import griddata"
   ]
  },
  {
   "cell_type": "code",
   "execution_count": 17,
   "id": "6461be92-9d66-4911-b4b6-8853e20d0199",
   "metadata": {},
   "outputs": [
    {
     "data": {
      "text/plain": [
       "array([17.96])"
      ]
     },
     "execution_count": 17,
     "metadata": {},
     "output_type": "execute_result"
    }
   ],
   "source": [
    "griddata(data[:, :3], data[:, 3], point, method=method)"
   ]
  },
  {
   "cell_type": "markdown",
   "id": "c0b4783e-a7dd-422b-84a3-67b0c78e3f48",
   "metadata": {},
   "source": [
    "## Convert back to a tuple of meshgrid point coordinates"
   ]
  },
  {
   "cell_type": "code",
   "execution_count": 18,
   "id": "c60103c3-348d-4290-8b7e-83e214855412",
   "metadata": {},
   "outputs": [],
   "source": [
    "x = np.unique(data[:, 0])\n",
    "y = np.unique(data[:, 1])\n",
    "z = np.unique(data[:, 2])\n",
    "\n",
    "points = (x, y, z)\n",
    "        \n",
    "values = data[:, 3].reshape(5, 6, 7)"
   ]
  },
  {
   "cell_type": "code",
   "execution_count": 19,
   "id": "d2e04c90-009d-453d-8922-c68c2a22a261",
   "metadata": {},
   "outputs": [
    {
     "name": "stdout",
     "output_type": "stream",
     "text": [
      "[17.96]\n"
     ]
    }
   ],
   "source": [
    "print(interpn(points, values, point, method=method))"
   ]
  },
  {
   "cell_type": "code",
   "execution_count": null,
   "id": "c08fd929-5d68-46cb-980d-6bb8075df13b",
   "metadata": {},
   "outputs": [],
   "source": []
  }
 ],
 "metadata": {
  "kernelspec": {
   "display_name": "Python 3 (ipykernel)",
   "language": "python",
   "name": "python3"
  },
  "language_info": {
   "codemirror_mode": {
    "name": "ipython",
    "version": 3
   },
   "file_extension": ".py",
   "mimetype": "text/x-python",
   "name": "python",
   "nbconvert_exporter": "python",
   "pygments_lexer": "ipython3",
   "version": "3.10.13"
  }
 },
 "nbformat": 4,
 "nbformat_minor": 5
}
